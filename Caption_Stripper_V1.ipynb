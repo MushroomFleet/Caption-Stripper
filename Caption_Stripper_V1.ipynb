{
  "cells": [
    {
      "cell_type": "markdown",
      "metadata": {
        "id": "view-in-github",
        "colab_type": "text"
      },
      "source": [
        "<a href=\"https://colab.research.google.com/github/MushroomFleet/Caption-Stripper/blob/main/Caption_Stripper_V1.ipynb\" target=\"_parent\"><img src=\"https://colab.research.google.com/assets/colab-badge.svg\" alt=\"Open In Colab\"/></a>"
      ]
    },
    {
      "cell_type": "markdown",
      "source": [
        "[![ko-fi](https://img.shields.io/badge/Support%20me%20on%20Ko--fi-F16061?logo=ko-fi&logoColor=white&style=flat)](https://ko-fi.com/driftjohnson)\n",
        "\n",
        "# **Johnsons Tools / Colab Notebooks For Augmented Productivity**"
      ],
      "metadata": {
        "id": "Rfer-1iZjFir"
      }
    },
    {
      "cell_type": "markdown",
      "source": [
        "| Notebook Name | Description | Link |\n",
        "| --- | --- | --- | \n",
        "| [Caption Append](https://github.com/MushroomFleet/Caption-Append) | Caption Append | [![](https://img.shields.io/static/v1?message=Open%20in%20Colab&logo=googlecolab&labelColor=5c5c5c&color=0f80c1&label=%20&style=flat)](https://colab.research.google.com/github/MushroomFleet/Caption-Append/blob/main/Caption_Append_V1.ipynb) |\n",
        "| [Caption Concat](https://github.com/MushroomFleet/Caption-Concat) | Caption Concat | [![](https://img.shields.io/static/v1?message=Open%20in%20Colab&logo=googlecolab&labelColor=5c5c5c&color=0f80c1&label=%20&style=flat)](https://colab.research.google.com/github/MushroomFleet/Caption-Concat/blob/main/Caption_Concat_V1_2.ipynb) |\n",
        "| [Caption Stripper](https://github.com/MushroomFleet/Caption-Stripper) | Caption Stripper | [![](https://img.shields.io/static/v1?message=Open%20in%20Colab&logo=googlecolab&labelColor=5c5c5c&color=0f80c1&label=%20&style=flat)](https://colab.research.google.com/github/MushroomFleet/Caption-Stripper/blob/main/Caption_Stripper_V1.ipynb) |\n",
        "| [Caption Swap](https://github.com/MushroomFleet/Caption-Swap) | Caption Swap | [![](https://img.shields.io/static/v1?message=Open%20in%20Colab&logo=googlecolab&labelColor=5c5c5c&color=0f80c1&label=%20&style=flat)](https://colab.research.google.com/github/MushroomFleet/Caption-Swap/blob/main/Caption_Swap_V1.ipynb) | \n",
        "| [Reverse Coco](https://github.com/MushroomFleet/Reverse-Coco) | Reverse Coco | [![](https://img.shields.io/static/v1?message=Open%20in%20Colab&logo=googlecolab&labelColor=5c5c5c&color=0f80c1&label=%20&style=flat)](https://colab.research.google.com/github/MushroomFleet/Reverse-Coco/blob/main/ReverseCocoV1.ipynb) | \n",
        "| [FFXFade-o-rama](https://github.com/MushroomFleet/FFXFADE-O-RAMA) | FFX Fade o rama | [![](https://img.shields.io/static/v1?message=Open%20in%20Colab&logo=googlecolab&labelColor=5c5c5c&color=0f80c1&label=%20&style=flat)](https://colab.research.google.com/github/MushroomFleet/FFXFADE-O-RAMA/blob/main/djz_FFXFADE_O_RAMA.ipynb) | \n",
        "| [Deforum Tools](https://github.com/MushroomFleet/Deforum-Sequence-Tools) | Deforum Tools | [![](https://img.shields.io/static/v1?message=Open%20in%20Colab&logo=googlecolab&labelColor=5c5c5c&color=0f80c1&label=%20&style=flat)](https://colab.research.google.com/github/MushroomFleet/Deforum-Sequence-Tools/blob/main/Deforum_Sequence_ToolsV1.ipynb) | "
      ],
      "metadata": {
        "id": "o9kCu9f3jc1z"
      }
    },
    {
      "cell_type": "markdown",
      "metadata": {
        "id": "1lJFS3DwxNGU"
      },
      "source": [
        "###**Google Drive Sync & setup**"
      ]
    },
    {
      "cell_type": "code",
      "source": [
        "from google.colab import drive\n",
        "drive.mount('/content/drive')\n"
      ],
      "metadata": {
        "colab": {
          "base_uri": "https://localhost:8080/"
        },
        "id": "jkewPHxopHL7",
        "outputId": "9d3f524b-233c-4252-e485-123e7cbb5495"
      },
      "execution_count": null,
      "outputs": [
        {
          "output_type": "stream",
          "name": "stdout",
          "text": [
            "Drive already mounted at /content/drive; to attempt to forcibly remount, call drive.mount(\"/content/drive\", force_remount=True).\n"
          ]
        }
      ]
    },
    {
      "cell_type": "markdown",
      "source": [
        "Add Path to Dataset and Run.\n",
        "\n",
        "I built this to save time adding a trigger to existing captions for training with newer methods like LORA Dreambooth, which requires the \"triggerword style\" formatting in the captions files.\n",
        "\n",
        "It will use the Foldername as the Triggerword followed by your chosen class name to the start of every Caption file. Works recursively and will iterate through as many folders as it can see below the path you set.\n",
        "\n",
        "\"Foldername Class_name Caption words\"\n",
        "\n",
        "# PATHS & CONFIG"
      ],
      "metadata": {
        "id": "qroadFOacSiS"
      }
    },
    {
      "cell_type": "code",
      "source": [
        "\n",
        "import os\n",
        "import glob\n",
        "import re\n",
        "\n",
        "dir_path = \"/content/drive/MyDrive/PATH\"  # @param {type:'string'}\n"
      ],
      "metadata": {
        "id": "GolU2UCWmzwQ",
        "cellView": "form"
      },
      "execution_count": null,
      "outputs": []
    },
    {
      "cell_type": "markdown",
      "source": [
        "Now type in as many words that you want to remove with the following syntax:\n",
        "\n",
        "`['word1', 'word2', 'word3']`\n",
        "\n",
        "If the Word is followed by a comma, the word will be removed. \n",
        "NOTE: Commas will also be removed.\n",
        "\n",
        "If you need to work with a Caption format that is not .txt, enter that file extension.\n",
        "\n",
        "`remove_dir` does not remove a Directory, it removes the directory name when it is contained in the caption. so if the folder name is `/paintings/` and a caption inside that folder contains the word `paintings` that word will be removed. "
      ],
      "metadata": {
        "id": "w7wfRcyShzPP"
      }
    },
    {
      "cell_type": "code",
      "source": [
        "words_to_remove = ['style'] # @param {type:'string'}\n",
        "\n",
        "file_extensions = ('.txt') # @param {type:'string'}\n",
        "\n",
        "# Toggle to remove directory name or not\n",
        "remove_dir = True # @param {type: \"boolean\"}"
      ],
      "metadata": {
        "cellView": "form",
        "id": "fVDZZTtehZcE"
      },
      "execution_count": null,
      "outputs": []
    },
    {
      "cell_type": "markdown",
      "source": [],
      "metadata": {
        "id": "OGlf8CWIhl35"
      }
    },
    {
      "cell_type": "markdown",
      "metadata": {
        "id": "TWZCMNd95ef7"
      },
      "source": [
        "# Run Caption Stripper"
      ]
    },
    {
      "cell_type": "code",
      "source": [
        "# Define a function to remove the specific words from the first line of a file\n",
        "def remove_words_from_first_line(file_path, pattern):\n",
        "    with open(file_path, 'r') as f:\n",
        "        lines = f.readlines()\n",
        "        lines[0] = pattern.sub('', lines[0])\n",
        "    with open(file_path, 'w') as f:\n",
        "        f.writelines(lines)\n",
        "\n",
        "# Define a function to remove the name of the directory from a file\n",
        "def remove_dir_name(file_path, dir_name):\n",
        "    with open(file_path, 'r') as f:\n",
        "        lines = f.readlines()\n",
        "        for i in range(len(lines)):\n",
        "            lines[i] = lines[i].replace(dir_name, '')\n",
        "            lines[i] = lines[i].replace(',', '')\n",
        "    with open(file_path, 'w') as f:\n",
        "        f.writelines(lines)\n",
        "\n",
        "# Walk through all folders in the directory tree\n",
        "for root, dirs, files in os.walk(dir_path):\n",
        "    for file_name in files:\n",
        "        file_path = os.path.join(root, file_name)\n",
        "        file_ext = os.path.splitext(file_name)[1].lower()\n",
        "        if file_ext in file_extensions:\n",
        "            try:\n",
        "                # Remove specific words from the first line\n",
        "                remove_words_from_first_line(file_path, pattern)\n",
        "                print(f'Removed specific words from the first line of {file_path}')\n",
        "\n",
        "                # Remove the name of the directory from the file if remove_dir is True\n",
        "                if remove_dir:\n",
        "                    dir_name = os.path.basename(os.path.dirname(file_path))\n",
        "                    remove_dir_name(file_path, dir_name)\n",
        "                    print(f'Removed directory name and commas from {file_path}')\n",
        "            except Exception as e:\n",
        "                print(f'Error processing file {file_path}: {str(e)}')"
      ],
      "metadata": {
        "colab": {
          "base_uri": "https://localhost:8080/"
        },
        "id": "guVNak3Cyi_n",
        "outputId": "f9a8f2a9-4c21-4687-e1f8-ad2808a8f945"
      },
      "execution_count": null,
      "outputs": [
        {
          "output_type": "stream",
          "name": "stdout",
          "text": [
            "Removed specific words from the first line of /content/drive/MyDrive/test3/Airlock/Airlock (16).txt\n",
            "Removed directory name and commas from /content/drive/MyDrive/test3/Airlock/Airlock (16).txt\n",
            "Removed specific words from the first line of /content/drive/MyDrive/test3/Airlock/Airlock (15).txt\n",
            "Removed directory name and commas from /content/drive/MyDrive/test3/Airlock/Airlock (15).txt\n",
            "Removed specific words from the first line of /content/drive/MyDrive/test3/Airlock/Airlock (14).txt\n",
            "Removed directory name and commas from /content/drive/MyDrive/test3/Airlock/Airlock (14).txt\n",
            "Removed specific words from the first line of /content/drive/MyDrive/test3/Airlock/Airlock (20).txt\n",
            "Removed directory name and commas from /content/drive/MyDrive/test3/Airlock/Airlock (20).txt\n",
            "Removed specific words from the first line of /content/drive/MyDrive/test3/Airlock/Airlock (26).txt\n",
            "Removed directory name and commas from /content/drive/MyDrive/test3/Airlock/Airlock (26).txt\n",
            "Removed specific words from the first line of /content/drive/MyDrive/test3/Airlock/Airlock (31).txt\n",
            "Removed directory name and commas from /content/drive/MyDrive/test3/Airlock/Airlock (31).txt\n",
            "Removed specific words from the first line of /content/drive/MyDrive/test3/Airlock/Airlock (27).txt\n",
            "Removed directory name and commas from /content/drive/MyDrive/test3/Airlock/Airlock (27).txt\n",
            "Removed specific words from the first line of /content/drive/MyDrive/test3/Airlock/Airlock (29).txt\n",
            "Removed directory name and commas from /content/drive/MyDrive/test3/Airlock/Airlock (29).txt\n",
            "Removed specific words from the first line of /content/drive/MyDrive/test3/Airlock/Airlock (28).txt\n",
            "Removed directory name and commas from /content/drive/MyDrive/test3/Airlock/Airlock (28).txt\n",
            "Removed specific words from the first line of /content/drive/MyDrive/test3/Airlock/Airlock (17).txt\n",
            "Removed directory name and commas from /content/drive/MyDrive/test3/Airlock/Airlock (17).txt\n",
            "Removed specific words from the first line of /content/drive/MyDrive/test3/Airlock/Airlock (2).txt\n",
            "Removed directory name and commas from /content/drive/MyDrive/test3/Airlock/Airlock (2).txt\n",
            "Removed specific words from the first line of /content/drive/MyDrive/test3/Airlock/Airlock (18).txt\n",
            "Removed directory name and commas from /content/drive/MyDrive/test3/Airlock/Airlock (18).txt\n",
            "Removed specific words from the first line of /content/drive/MyDrive/test3/Airlock/Airlock (19).txt\n",
            "Removed directory name and commas from /content/drive/MyDrive/test3/Airlock/Airlock (19).txt\n",
            "Removed specific words from the first line of /content/drive/MyDrive/test3/Airlock/Airlock (50).txt\n",
            "Removed directory name and commas from /content/drive/MyDrive/test3/Airlock/Airlock (50).txt\n",
            "Removed specific words from the first line of /content/drive/MyDrive/test3/Airlock/Airlock (37).txt\n",
            "Removed directory name and commas from /content/drive/MyDrive/test3/Airlock/Airlock (37).txt\n",
            "Removed specific words from the first line of /content/drive/MyDrive/test3/Airlock/Airlock (23).txt\n",
            "Removed directory name and commas from /content/drive/MyDrive/test3/Airlock/Airlock (23).txt\n",
            "Removed specific words from the first line of /content/drive/MyDrive/test3/Airlock/Airlock (1).txt\n",
            "Removed directory name and commas from /content/drive/MyDrive/test3/Airlock/Airlock (1).txt\n",
            "Removed specific words from the first line of /content/drive/MyDrive/test3/Airlock/Airlock (38).txt\n",
            "Removed directory name and commas from /content/drive/MyDrive/test3/Airlock/Airlock (38).txt\n",
            "Removed specific words from the first line of /content/drive/MyDrive/test3/Airlock/Airlock (24).txt\n",
            "Removed directory name and commas from /content/drive/MyDrive/test3/Airlock/Airlock (24).txt\n",
            "Removed specific words from the first line of /content/drive/MyDrive/test3/Airlock/Airlock (51).txt\n",
            "Removed directory name and commas from /content/drive/MyDrive/test3/Airlock/Airlock (51).txt\n",
            "Removed specific words from the first line of /content/drive/MyDrive/test3/Airlock/Airlock (10).txt\n",
            "Removed directory name and commas from /content/drive/MyDrive/test3/Airlock/Airlock (10).txt\n",
            "Removed specific words from the first line of /content/drive/MyDrive/test3/Airlock/Airlock (39).txt\n",
            "Removed directory name and commas from /content/drive/MyDrive/test3/Airlock/Airlock (39).txt\n",
            "Removed specific words from the first line of /content/drive/MyDrive/test3/Airlock/Airlock (52).txt\n",
            "Removed directory name and commas from /content/drive/MyDrive/test3/Airlock/Airlock (52).txt\n",
            "Removed specific words from the first line of /content/drive/MyDrive/test3/Airlock/Airlock (11).txt\n",
            "Removed directory name and commas from /content/drive/MyDrive/test3/Airlock/Airlock (11).txt\n",
            "Removed specific words from the first line of /content/drive/MyDrive/test3/Airlock/Airlock (25).txt\n",
            "Removed directory name and commas from /content/drive/MyDrive/test3/Airlock/Airlock (25).txt\n",
            "Removed specific words from the first line of /content/drive/MyDrive/test3/Airlock/Airlock (4).txt\n",
            "Removed directory name and commas from /content/drive/MyDrive/test3/Airlock/Airlock (4).txt\n",
            "Removed specific words from the first line of /content/drive/MyDrive/test3/Airlock/Airlock (12).txt\n",
            "Removed directory name and commas from /content/drive/MyDrive/test3/Airlock/Airlock (12).txt\n",
            "Removed specific words from the first line of /content/drive/MyDrive/test3/Airlock/Airlock (53).txt\n",
            "Removed directory name and commas from /content/drive/MyDrive/test3/Airlock/Airlock (53).txt\n",
            "Removed specific words from the first line of /content/drive/MyDrive/test3/Airlock/Airlock (40).txt\n",
            "Removed directory name and commas from /content/drive/MyDrive/test3/Airlock/Airlock (40).txt\n",
            "Removed specific words from the first line of /content/drive/MyDrive/test3/Airlock/Airlock (13).txt\n",
            "Removed directory name and commas from /content/drive/MyDrive/test3/Airlock/Airlock (13).txt\n",
            "Removed specific words from the first line of /content/drive/MyDrive/test3/Airlock/Airlock (54).txt\n",
            "Removed directory name and commas from /content/drive/MyDrive/test3/Airlock/Airlock (54).txt\n",
            "Removed specific words from the first line of /content/drive/MyDrive/test3/Airlock/Airlock (41).txt\n",
            "Removed directory name and commas from /content/drive/MyDrive/test3/Airlock/Airlock (41).txt\n",
            "Removed specific words from the first line of /content/drive/MyDrive/test3/Airlock/Airlock (55).txt\n",
            "Removed directory name and commas from /content/drive/MyDrive/test3/Airlock/Airlock (55).txt\n",
            "Removed specific words from the first line of /content/drive/MyDrive/test3/Airlock/Airlock (42).txt\n",
            "Removed directory name and commas from /content/drive/MyDrive/test3/Airlock/Airlock (42).txt\n",
            "Removed specific words from the first line of /content/drive/MyDrive/test3/Airlock/Airlock (56).txt\n",
            "Removed directory name and commas from /content/drive/MyDrive/test3/Airlock/Airlock (56).txt\n",
            "Removed specific words from the first line of /content/drive/MyDrive/test3/Airlock/Airlock (43).txt\n",
            "Removed directory name and commas from /content/drive/MyDrive/test3/Airlock/Airlock (43).txt\n",
            "Removed specific words from the first line of /content/drive/MyDrive/test3/Airlock/Airlock (3).txt\n",
            "Removed directory name and commas from /content/drive/MyDrive/test3/Airlock/Airlock (3).txt\n",
            "Removed specific words from the first line of /content/drive/MyDrive/test3/Airlock/Airlock (6).txt\n",
            "Removed directory name and commas from /content/drive/MyDrive/test3/Airlock/Airlock (6).txt\n",
            "Removed specific words from the first line of /content/drive/MyDrive/test3/Airlock/Airlock (44).txt\n",
            "Removed directory name and commas from /content/drive/MyDrive/test3/Airlock/Airlock (44).txt\n",
            "Removed specific words from the first line of /content/drive/MyDrive/test3/Airlock/Airlock (30).txt\n",
            "Removed directory name and commas from /content/drive/MyDrive/test3/Airlock/Airlock (30).txt\n",
            "Removed specific words from the first line of /content/drive/MyDrive/test3/Airlock/Airlock (7).txt\n",
            "Removed directory name and commas from /content/drive/MyDrive/test3/Airlock/Airlock (7).txt\n",
            "Removed specific words from the first line of /content/drive/MyDrive/test3/Airlock/Airlock (45).txt\n",
            "Removed directory name and commas from /content/drive/MyDrive/test3/Airlock/Airlock (45).txt\n",
            "Removed specific words from the first line of /content/drive/MyDrive/test3/Airlock/Airlock (8).txt\n",
            "Removed directory name and commas from /content/drive/MyDrive/test3/Airlock/Airlock (8).txt\n",
            "Removed specific words from the first line of /content/drive/MyDrive/test3/Airlock/Airlock (46).txt\n",
            "Removed directory name and commas from /content/drive/MyDrive/test3/Airlock/Airlock (46).txt\n",
            "Removed specific words from the first line of /content/drive/MyDrive/test3/Airlock/Airlock (32).txt\n",
            "Removed directory name and commas from /content/drive/MyDrive/test3/Airlock/Airlock (32).txt\n",
            "Removed specific words from the first line of /content/drive/MyDrive/test3/Airlock/Airlock (9).txt\n",
            "Removed directory name and commas from /content/drive/MyDrive/test3/Airlock/Airlock (9).txt\n",
            "Removed specific words from the first line of /content/drive/MyDrive/test3/Airlock/Airlock (47).txt\n",
            "Removed directory name and commas from /content/drive/MyDrive/test3/Airlock/Airlock (47).txt\n",
            "Removed specific words from the first line of /content/drive/MyDrive/test3/Airlock/Airlock (33).txt\n",
            "Removed directory name and commas from /content/drive/MyDrive/test3/Airlock/Airlock (33).txt\n",
            "Removed specific words from the first line of /content/drive/MyDrive/test3/Airlock/Airlock (34).txt\n",
            "Removed directory name and commas from /content/drive/MyDrive/test3/Airlock/Airlock (34).txt\n",
            "Removed specific words from the first line of /content/drive/MyDrive/test3/Airlock/Airlock (48).txt\n",
            "Removed directory name and commas from /content/drive/MyDrive/test3/Airlock/Airlock (48).txt\n",
            "Removed specific words from the first line of /content/drive/MyDrive/test3/Airlock/Airlock (49).txt\n",
            "Removed directory name and commas from /content/drive/MyDrive/test3/Airlock/Airlock (49).txt\n",
            "Removed specific words from the first line of /content/drive/MyDrive/test3/Airlock/Airlock (35).txt\n",
            "Removed directory name and commas from /content/drive/MyDrive/test3/Airlock/Airlock (35).txt\n",
            "Removed specific words from the first line of /content/drive/MyDrive/test3/Airlock/Airlock (21).txt\n",
            "Removed directory name and commas from /content/drive/MyDrive/test3/Airlock/Airlock (21).txt\n",
            "Removed specific words from the first line of /content/drive/MyDrive/test3/Airlock/Airlock (36).txt\n",
            "Removed directory name and commas from /content/drive/MyDrive/test3/Airlock/Airlock (36).txt\n",
            "Removed specific words from the first line of /content/drive/MyDrive/test3/Airlock/Airlock (5).txt\n",
            "Removed directory name and commas from /content/drive/MyDrive/test3/Airlock/Airlock (5).txt\n",
            "Removed specific words from the first line of /content/drive/MyDrive/test3/Airlock/Airlock (22).txt\n",
            "Removed directory name and commas from /content/drive/MyDrive/test3/Airlock/Airlock (22).txt\n",
            "Removed specific words from the first line of /content/drive/MyDrive/test3/AIsociety/AIsociety (10).txt\n",
            "Removed directory name and commas from /content/drive/MyDrive/test3/AIsociety/AIsociety (10).txt\n",
            "Removed specific words from the first line of /content/drive/MyDrive/test3/AIsociety/AIsociety (13).txt\n",
            "Removed directory name and commas from /content/drive/MyDrive/test3/AIsociety/AIsociety (13).txt\n",
            "Removed specific words from the first line of /content/drive/MyDrive/test3/AIsociety/AIsociety (16).txt\n",
            "Removed directory name and commas from /content/drive/MyDrive/test3/AIsociety/AIsociety (16).txt\n",
            "Removed specific words from the first line of /content/drive/MyDrive/test3/AIsociety/AIsociety (12).txt\n",
            "Removed directory name and commas from /content/drive/MyDrive/test3/AIsociety/AIsociety (12).txt\n",
            "Removed specific words from the first line of /content/drive/MyDrive/test3/AIsociety/AIsociety (14).txt\n",
            "Removed directory name and commas from /content/drive/MyDrive/test3/AIsociety/AIsociety (14).txt\n",
            "Removed specific words from the first line of /content/drive/MyDrive/test3/AIsociety/AIsociety (15).txt\n",
            "Removed directory name and commas from /content/drive/MyDrive/test3/AIsociety/AIsociety (15).txt\n",
            "Removed specific words from the first line of /content/drive/MyDrive/test3/AIsociety/AIsociety (11).txt\n",
            "Removed directory name and commas from /content/drive/MyDrive/test3/AIsociety/AIsociety (11).txt\n",
            "Removed specific words from the first line of /content/drive/MyDrive/test3/AIsociety/AIsociety (1).txt\n",
            "Removed directory name and commas from /content/drive/MyDrive/test3/AIsociety/AIsociety (1).txt\n",
            "Removed specific words from the first line of /content/drive/MyDrive/test3/AIsociety/AIsociety (3).txt\n",
            "Removed directory name and commas from /content/drive/MyDrive/test3/AIsociety/AIsociety (3).txt\n",
            "Removed specific words from the first line of /content/drive/MyDrive/test3/AIsociety/AIsociety (5).txt\n",
            "Removed directory name and commas from /content/drive/MyDrive/test3/AIsociety/AIsociety (5).txt\n",
            "Removed specific words from the first line of /content/drive/MyDrive/test3/AIsociety/AIsociety (6).txt\n",
            "Removed directory name and commas from /content/drive/MyDrive/test3/AIsociety/AIsociety (6).txt\n",
            "Removed specific words from the first line of /content/drive/MyDrive/test3/AIsociety/AIsociety (8).txt\n",
            "Removed directory name and commas from /content/drive/MyDrive/test3/AIsociety/AIsociety (8).txt\n",
            "Removed specific words from the first line of /content/drive/MyDrive/test3/AIsociety/AIsociety (7).txt\n",
            "Removed directory name and commas from /content/drive/MyDrive/test3/AIsociety/AIsociety (7).txt\n",
            "Removed specific words from the first line of /content/drive/MyDrive/test3/AIsociety/AIsociety (9).txt\n",
            "Removed directory name and commas from /content/drive/MyDrive/test3/AIsociety/AIsociety (9).txt\n",
            "Removed specific words from the first line of /content/drive/MyDrive/test3/AIsociety/AIsociety (2).txt\n",
            "Removed directory name and commas from /content/drive/MyDrive/test3/AIsociety/AIsociety (2).txt\n",
            "Removed specific words from the first line of /content/drive/MyDrive/test3/AIsociety/AIsociety (4).txt\n",
            "Removed directory name and commas from /content/drive/MyDrive/test3/AIsociety/AIsociety (4).txt\n"
          ]
        }
      ]
    }
  ],
  "metadata": {
    "colab": {
      "provenance": [],
      "toc_visible": true,
      "collapsed_sections": [
        "TWZCMNd95ef7"
      ],
      "include_colab_link": true
    },
    "gpuClass": "standard",
    "kernelspec": {
      "display_name": "Python 3",
      "name": "python3"
    },
    "language_info": {
      "name": "python"
    }
  },
  "nbformat": 4,
  "nbformat_minor": 0
}